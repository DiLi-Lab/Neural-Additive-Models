{
 "cells": [
  {
   "cell_type": "code",
   "execution_count": 1,
   "metadata": {},
   "outputs": [
    {
     "name": "stdout",
     "output_type": "stream",
     "text": [
      "Populating the interactive namespace from numpy and matplotlib\n"
     ]
    },
    {
     "name": "stderr",
     "output_type": "stream",
     "text": [
      "/usr/local/apps/Anaconda3/2020.11/lib/python3.8/site-packages/IPython/core/magics/pylab.py:159: UserWarning: pylab import has clobbered these variables: ['random']\n",
      "`%matplotlib` prevents importing * from pylab and numpy\n",
      "  warn(\"pylab import has clobbered these variables: %s\"  % clobbered +\n"
     ]
    }
   ],
   "source": [
    "import sys\n",
    "sys.path.append('/home/prasse/work/Projekte/AEye/reading-comprehension/')\n",
    "from rf_baseline  import rf_feature_extraction as rf_feature_extraction\n",
    "import datetime\n",
    "from typing import Tuple\n",
    "from tqdm import tqdm\n",
    "import pandas as pd\n",
    "from collections import defaultdict\n",
    "import json\n",
    "import random\n",
    "import os\n",
    "import numpy as np\n",
    "from sklearn.model_selection import KFold\n",
    "from sklearn import metrics\n",
    "from sklearn.preprocessing import MinMaxScaler\n",
    "import json\n",
    "from sklearn.ensemble import RandomForestClassifier\n",
    "from sklearn.model_selection import GridSearchCV\n",
    "\n",
    "\n",
    "%pylab inline\n",
    "%load_ext autoreload\n",
    "%autoreload 2"
   ]
  },
  {
   "cell_type": "code",
   "execution_count": 2,
   "metadata": {},
   "outputs": [],
   "source": [
    "split_criterion = 'subj'\n",
    "#split_criterion = 'book-page'\n",
    "#split_criterion = 'book'\n",
    "label = 'acc_level'\n",
    "#label = 'native'\n",
    "#label = 'subj_acc_level'\n",
    "#label = 'difficulty'\n",
    "normalize_flag = True\n",
    "grid_search = False\n",
    "use_gaze_entropy_features = True\n",
    "flag_use_page_setting = False\n",
    "if flag_use_page_setting:\n",
    "    # page setting\n",
    "    input_window = 'page'\n",
    "    save_dir     = '/home/prasse/work/Projekte/AEye/reading-comprehension/results_surprisal_page/'\n",
    "    suffix       = ''\n",
    "else:\n",
    "    # window setting\n",
    "    input_window = 'window'\n",
    "    save_dir     = '/home/prasse/work/Projekte/AEye/reading-comprehension/results_surprisal_21_fix/'\n",
    "    suffix       = '_window'\n",
    "num_words = 150\n",
    "\n",
    "param_grid = { \n",
    "    'n_estimators': [100, 200, 500],\n",
    "    'max_features': ['auto', 'sqrt', 'log2'],\n",
    "    'max_depth' : [4,8,16, None],\n",
    "    #'criterion' :['gini', 'entropy'],\n",
    "    'n_jobs': [-1]\n",
    "}\n"
   ]
  },
  {
   "cell_type": "code",
   "execution_count": 3,
   "metadata": {
    "scrolled": true
   },
   "outputs": [
    {
     "name": "stderr",
     "output_type": "stream",
     "text": [
      "100%|██████████| 8355/8355 [00:38<00:00, 215.82it/s]\n",
      "100%|██████████| 2704/2704 [00:12<00:00, 215.69it/s]\n",
      "100%|██████████| 2579/2579 [00:11<00:00, 215.49it/s]\n"
     ]
    },
    {
     "name": "stdout",
     "output_type": "stream",
     "text": [
      "0.5442413028616346\n"
     ]
    },
    {
     "name": "stderr",
     "output_type": "stream",
     "text": [
      "100%|██████████| 8112/8112 [00:37<00:00, 216.97it/s]\n",
      "100%|██████████| 2799/2799 [00:12<00:00, 216.91it/s]\n",
      "100%|██████████| 2727/2727 [00:12<00:00, 216.03it/s]\n"
     ]
    },
    {
     "name": "stdout",
     "output_type": "stream",
     "text": [
      "0.5008132307959303\n"
     ]
    },
    {
     "name": "stderr",
     "output_type": "stream",
     "text": [
      "100%|██████████| 8046/8046 [00:36<00:00, 217.66it/s]\n",
      "100%|██████████| 2847/2847 [00:13<00:00, 218.74it/s]\n",
      "100%|██████████| 2745/2745 [00:12<00:00, 215.55it/s]\n"
     ]
    },
    {
     "name": "stdout",
     "output_type": "stream",
     "text": [
      "0.547686652953851\n"
     ]
    },
    {
     "name": "stderr",
     "output_type": "stream",
     "text": [
      "100%|██████████| 7750/7750 [00:35<00:00, 218.98it/s]\n",
      "100%|██████████| 2887/2887 [00:13<00:00, 218.46it/s]\n",
      "100%|██████████| 3001/3001 [00:13<00:00, 216.23it/s]\n"
     ]
    },
    {
     "name": "stdout",
     "output_type": "stream",
     "text": [
      "0.5485988520981016\n"
     ]
    },
    {
     "name": "stderr",
     "output_type": "stream",
     "text": [
      "100%|██████████| 8242/8242 [00:37<00:00, 217.33it/s]\n",
      "100%|██████████| 2810/2810 [00:12<00:00, 219.61it/s]\n",
      "100%|██████████| 2586/2586 [00:11<00:00, 215.79it/s]\n"
     ]
    },
    {
     "name": "stdout",
     "output_type": "stream",
     "text": [
      "0.490595465450543\n"
     ]
    },
    {
     "name": "stderr",
     "output_type": "stream",
     "text": [
      "100%|██████████| 8355/8355 [00:37<00:00, 220.51it/s]\n",
      "100%|██████████| 2704/2704 [00:12<00:00, 219.91it/s]\n",
      "100%|██████████| 2579/2579 [00:12<00:00, 214.57it/s]\n"
     ]
    },
    {
     "name": "stdout",
     "output_type": "stream",
     "text": [
      "0.6800824777820087\n"
     ]
    },
    {
     "name": "stderr",
     "output_type": "stream",
     "text": [
      "100%|██████████| 8112/8112 [00:36<00:00, 219.70it/s]\n",
      "100%|██████████| 2799/2799 [00:12<00:00, 220.90it/s]\n",
      "100%|██████████| 2727/2727 [00:12<00:00, 216.85it/s]\n"
     ]
    },
    {
     "name": "stdout",
     "output_type": "stream",
     "text": [
      "0.6704361883058201\n"
     ]
    },
    {
     "name": "stderr",
     "output_type": "stream",
     "text": [
      "100%|██████████| 8046/8046 [00:36<00:00, 220.49it/s]\n",
      "100%|██████████| 2847/2847 [00:12<00:00, 222.53it/s]\n",
      "100%|██████████| 2745/2745 [00:12<00:00, 218.69it/s]\n"
     ]
    },
    {
     "name": "stdout",
     "output_type": "stream",
     "text": [
      "0.6676882508889914\n"
     ]
    },
    {
     "name": "stderr",
     "output_type": "stream",
     "text": [
      "100%|██████████| 7750/7750 [00:35<00:00, 219.87it/s]\n",
      "100%|██████████| 2887/2887 [00:13<00:00, 220.00it/s]\n",
      "100%|██████████| 3001/3001 [00:13<00:00, 218.75it/s]\n"
     ]
    },
    {
     "name": "stdout",
     "output_type": "stream",
     "text": [
      "0.5474135677406705\n"
     ]
    },
    {
     "name": "stderr",
     "output_type": "stream",
     "text": [
      "100%|██████████| 8242/8242 [00:37<00:00, 221.49it/s]\n",
      "100%|██████████| 2810/2810 [00:12<00:00, 218.11it/s]\n",
      "100%|██████████| 2586/2586 [00:11<00:00, 217.99it/s]\n"
     ]
    },
    {
     "name": "stdout",
     "output_type": "stream",
     "text": [
      "0.6222102746003386\n"
     ]
    },
    {
     "name": "stderr",
     "output_type": "stream",
     "text": [
      "100%|██████████| 8355/8355 [00:37<00:00, 219.92it/s]\n",
      "100%|██████████| 2704/2704 [00:12<00:00, 222.27it/s]\n",
      "100%|██████████| 2579/2579 [00:11<00:00, 218.03it/s]\n"
     ]
    },
    {
     "name": "stdout",
     "output_type": "stream",
     "text": [
      "0.6707174732019721\n"
     ]
    },
    {
     "name": "stderr",
     "output_type": "stream",
     "text": [
      "100%|██████████| 8112/8112 [00:36<00:00, 220.94it/s]\n",
      "100%|██████████| 2799/2799 [00:12<00:00, 221.00it/s]\n",
      "100%|██████████| 2727/2727 [00:12<00:00, 220.31it/s]\n"
     ]
    },
    {
     "name": "stdout",
     "output_type": "stream",
     "text": [
      "0.6745932648238449\n"
     ]
    },
    {
     "name": "stderr",
     "output_type": "stream",
     "text": [
      "100%|██████████| 8046/8046 [00:36<00:00, 220.31it/s]\n",
      "100%|██████████| 2847/2847 [00:13<00:00, 218.83it/s]\n",
      "100%|██████████| 2745/2745 [00:12<00:00, 219.72it/s]\n"
     ]
    },
    {
     "name": "stdout",
     "output_type": "stream",
     "text": [
      "0.6868028307802562\n"
     ]
    },
    {
     "name": "stderr",
     "output_type": "stream",
     "text": [
      "100%|██████████| 7750/7750 [00:35<00:00, 220.35it/s]\n",
      "100%|██████████| 2887/2887 [00:13<00:00, 220.99it/s]\n",
      "100%|██████████| 3001/3001 [00:13<00:00, 221.10it/s]\n"
     ]
    },
    {
     "name": "stdout",
     "output_type": "stream",
     "text": [
      "0.6809388253974886\n"
     ]
    },
    {
     "name": "stderr",
     "output_type": "stream",
     "text": [
      "100%|██████████| 8242/8242 [00:37<00:00, 221.09it/s]\n",
      "100%|██████████| 2810/2810 [00:12<00:00, 222.50it/s]\n",
      "100%|██████████| 2586/2586 [00:11<00:00, 218.92it/s]\n"
     ]
    },
    {
     "name": "stdout",
     "output_type": "stream",
     "text": [
      "0.6869174996723166\n"
     ]
    },
    {
     "name": "stderr",
     "output_type": "stream",
     "text": [
      "100%|██████████| 8355/8355 [00:38<00:00, 218.94it/s]\n",
      "100%|██████████| 2704/2704 [00:12<00:00, 215.49it/s]\n",
      "100%|██████████| 2579/2579 [00:11<00:00, 216.97it/s]\n"
     ]
    },
    {
     "name": "stdout",
     "output_type": "stream",
     "text": [
      "0.6799780234667229\n"
     ]
    },
    {
     "name": "stderr",
     "output_type": "stream",
     "text": [
      "100%|██████████| 8112/8112 [00:36<00:00, 221.29it/s]\n",
      "100%|██████████| 2799/2799 [00:12<00:00, 221.07it/s]\n",
      "100%|██████████| 2727/2727 [00:12<00:00, 215.53it/s]\n"
     ]
    },
    {
     "name": "stdout",
     "output_type": "stream",
     "text": [
      "0.527732625897074\n"
     ]
    },
    {
     "name": "stderr",
     "output_type": "stream",
     "text": [
      "100%|██████████| 8046/8046 [00:36<00:00, 221.45it/s]\n",
      "100%|██████████| 2847/2847 [00:13<00:00, 217.56it/s]\n",
      "100%|██████████| 2745/2745 [00:12<00:00, 219.51it/s]\n"
     ]
    },
    {
     "name": "stdout",
     "output_type": "stream",
     "text": [
      "0.6078986919795463\n"
     ]
    },
    {
     "name": "stderr",
     "output_type": "stream",
     "text": [
      "100%|██████████| 7750/7750 [00:34<00:00, 221.45it/s]\n",
      "100%|██████████| 2887/2887 [00:13<00:00, 220.76it/s]\n",
      "100%|██████████| 3001/3001 [00:13<00:00, 221.25it/s]\n"
     ]
    },
    {
     "name": "stdout",
     "output_type": "stream",
     "text": [
      "0.5511952061486354\n"
     ]
    },
    {
     "name": "stderr",
     "output_type": "stream",
     "text": [
      "100%|██████████| 8242/8242 [00:37<00:00, 221.99it/s]\n",
      "100%|██████████| 2810/2810 [00:12<00:00, 219.05it/s]\n",
      "100%|██████████| 2586/2586 [00:11<00:00, 217.45it/s]\n"
     ]
    },
    {
     "name": "stdout",
     "output_type": "stream",
     "text": [
      "0.5525886894671793\n"
     ]
    },
    {
     "name": "stderr",
     "output_type": "stream",
     "text": [
      "100%|██████████| 8182/8182 [00:37<00:00, 219.52it/s]\n",
      "100%|██████████| 2728/2728 [00:12<00:00, 219.27it/s]\n",
      "100%|██████████| 2728/2728 [00:12<00:00, 217.71it/s]\n"
     ]
    },
    {
     "name": "stdout",
     "output_type": "stream",
     "text": [
      "0.5712060744214515\n"
     ]
    },
    {
     "name": "stderr",
     "output_type": "stream",
     "text": [
      "100%|██████████| 8182/8182 [00:37<00:00, 220.34it/s]\n",
      "100%|██████████| 2728/2728 [00:12<00:00, 221.88it/s]\n",
      "100%|██████████| 2728/2728 [00:12<00:00, 218.25it/s]\n"
     ]
    },
    {
     "name": "stdout",
     "output_type": "stream",
     "text": [
      "0.5531877464259095\n"
     ]
    },
    {
     "name": "stderr",
     "output_type": "stream",
     "text": [
      "100%|██████████| 8182/8182 [00:37<00:00, 216.50it/s]\n",
      "100%|██████████| 2728/2728 [00:12<00:00, 219.36it/s]\n",
      "100%|██████████| 2728/2728 [00:12<00:00, 218.72it/s]\n"
     ]
    },
    {
     "name": "stdout",
     "output_type": "stream",
     "text": [
      "0.560728452377776\n"
     ]
    },
    {
     "name": "stderr",
     "output_type": "stream",
     "text": [
      "100%|██████████| 8183/8183 [00:37<00:00, 219.90it/s]\n",
      "100%|██████████| 2728/2728 [00:12<00:00, 218.33it/s]\n",
      "100%|██████████| 2727/2727 [00:12<00:00, 219.72it/s]\n"
     ]
    },
    {
     "name": "stdout",
     "output_type": "stream",
     "text": [
      "0.5673569733351946\n"
     ]
    },
    {
     "name": "stderr",
     "output_type": "stream",
     "text": [
      "100%|██████████| 8183/8183 [00:37<00:00, 219.30it/s]\n",
      "100%|██████████| 2728/2728 [00:12<00:00, 221.56it/s]\n",
      "100%|██████████| 2727/2727 [00:12<00:00, 219.98it/s]\n"
     ]
    },
    {
     "name": "stdout",
     "output_type": "stream",
     "text": [
      "0.5786418776430408\n"
     ]
    },
    {
     "name": "stderr",
     "output_type": "stream",
     "text": [
      "100%|██████████| 8182/8182 [00:37<00:00, 219.42it/s]\n",
      "100%|██████████| 2728/2728 [00:12<00:00, 210.25it/s]\n",
      "100%|██████████| 2728/2728 [00:12<00:00, 219.49it/s]\n"
     ]
    },
    {
     "name": "stdout",
     "output_type": "stream",
     "text": [
      "0.6491505073484275\n"
     ]
    },
    {
     "name": "stderr",
     "output_type": "stream",
     "text": [
      "100%|██████████| 8182/8182 [00:36<00:00, 221.21it/s]\n",
      "100%|██████████| 2728/2728 [00:12<00:00, 223.19it/s]\n",
      "100%|██████████| 2728/2728 [00:12<00:00, 218.74it/s]\n"
     ]
    },
    {
     "name": "stdout",
     "output_type": "stream",
     "text": [
      "0.6727605652451282\n"
     ]
    },
    {
     "name": "stderr",
     "output_type": "stream",
     "text": [
      "100%|██████████| 8182/8182 [00:37<00:00, 220.53it/s]\n",
      "100%|██████████| 2728/2728 [00:12<00:00, 220.76it/s]\n",
      "100%|██████████| 2728/2728 [00:12<00:00, 217.03it/s]\n"
     ]
    },
    {
     "name": "stdout",
     "output_type": "stream",
     "text": [
      "0.6541095476852925\n"
     ]
    },
    {
     "name": "stderr",
     "output_type": "stream",
     "text": [
      "100%|██████████| 8183/8183 [00:37<00:00, 219.61it/s]\n",
      "100%|██████████| 2728/2728 [00:12<00:00, 221.67it/s]\n",
      "100%|██████████| 2727/2727 [00:12<00:00, 219.54it/s]\n"
     ]
    },
    {
     "name": "stdout",
     "output_type": "stream",
     "text": [
      "0.6712939953372566\n"
     ]
    },
    {
     "name": "stderr",
     "output_type": "stream",
     "text": [
      "100%|██████████| 8183/8183 [00:37<00:00, 219.50it/s]\n",
      "100%|██████████| 2728/2728 [00:12<00:00, 217.82it/s]\n",
      "100%|██████████| 2727/2727 [00:12<00:00, 221.39it/s]\n"
     ]
    },
    {
     "name": "stdout",
     "output_type": "stream",
     "text": [
      "0.6376806437027982\n"
     ]
    },
    {
     "name": "stderr",
     "output_type": "stream",
     "text": [
      "100%|██████████| 8182/8182 [00:36<00:00, 221.26it/s]\n",
      "100%|██████████| 2728/2728 [00:12<00:00, 218.50it/s]\n",
      "100%|██████████| 2728/2728 [00:12<00:00, 219.29it/s]\n"
     ]
    },
    {
     "name": "stdout",
     "output_type": "stream",
     "text": [
      "0.6860391010972663\n"
     ]
    },
    {
     "name": "stderr",
     "output_type": "stream",
     "text": [
      "100%|██████████| 8182/8182 [00:36<00:00, 221.97it/s]\n",
      "100%|██████████| 2728/2728 [00:12<00:00, 219.28it/s]\n",
      "100%|██████████| 2728/2728 [00:12<00:00, 219.56it/s]\n"
     ]
    },
    {
     "name": "stdout",
     "output_type": "stream",
     "text": [
      "0.6894032650429381\n"
     ]
    },
    {
     "name": "stderr",
     "output_type": "stream",
     "text": [
      "100%|██████████| 8182/8182 [00:36<00:00, 221.23it/s]\n",
      "100%|██████████| 2728/2728 [00:12<00:00, 215.08it/s]\n",
      "100%|██████████| 2728/2728 [00:12<00:00, 219.07it/s]\n"
     ]
    },
    {
     "name": "stdout",
     "output_type": "stream",
     "text": [
      "0.6879463592609844\n"
     ]
    },
    {
     "name": "stderr",
     "output_type": "stream",
     "text": [
      "100%|██████████| 8183/8183 [00:37<00:00, 219.57it/s]\n",
      "100%|██████████| 2728/2728 [00:12<00:00, 215.83it/s]\n",
      "100%|██████████| 2727/2727 [00:12<00:00, 219.10it/s]\n"
     ]
    },
    {
     "name": "stdout",
     "output_type": "stream",
     "text": [
      "0.7023300322555641\n"
     ]
    },
    {
     "name": "stderr",
     "output_type": "stream",
     "text": [
      "100%|██████████| 8183/8183 [00:37<00:00, 220.77it/s]\n",
      "100%|██████████| 2728/2728 [00:12<00:00, 220.64it/s]\n",
      "100%|██████████| 2727/2727 [00:12<00:00, 219.13it/s]\n"
     ]
    },
    {
     "name": "stdout",
     "output_type": "stream",
     "text": [
      "0.6920958181070359\n"
     ]
    },
    {
     "name": "stderr",
     "output_type": "stream",
     "text": [
      "100%|██████████| 8182/8182 [00:37<00:00, 219.94it/s]\n",
      "100%|██████████| 2728/2728 [00:12<00:00, 220.50it/s]\n",
      "100%|██████████| 2728/2728 [00:12<00:00, 216.20it/s]\n"
     ]
    },
    {
     "name": "stdout",
     "output_type": "stream",
     "text": [
      "0.6209861440086069\n"
     ]
    },
    {
     "name": "stderr",
     "output_type": "stream",
     "text": [
      "100%|██████████| 8182/8182 [00:36<00:00, 221.45it/s]\n",
      "100%|██████████| 2728/2728 [00:12<00:00, 222.24it/s]\n",
      "100%|██████████| 2728/2728 [00:12<00:00, 218.53it/s]\n"
     ]
    },
    {
     "name": "stdout",
     "output_type": "stream",
     "text": [
      "0.6078220140769933\n"
     ]
    },
    {
     "name": "stderr",
     "output_type": "stream",
     "text": [
      "100%|██████████| 8182/8182 [00:36<00:00, 221.58it/s]\n",
      "100%|██████████| 2728/2728 [00:12<00:00, 219.94it/s]\n",
      "100%|██████████| 2728/2728 [00:12<00:00, 218.44it/s]\n"
     ]
    },
    {
     "name": "stdout",
     "output_type": "stream",
     "text": [
      "0.6252961422178172\n"
     ]
    },
    {
     "name": "stderr",
     "output_type": "stream",
     "text": [
      "100%|██████████| 8183/8183 [00:37<00:00, 220.24it/s]\n",
      "100%|██████████| 2728/2728 [00:12<00:00, 222.02it/s]\n",
      "100%|██████████| 2727/2727 [00:12<00:00, 220.34it/s]\n"
     ]
    },
    {
     "name": "stdout",
     "output_type": "stream",
     "text": [
      "0.6102273511573535\n"
     ]
    },
    {
     "name": "stderr",
     "output_type": "stream",
     "text": [
      "100%|██████████| 8183/8183 [00:37<00:00, 220.44it/s]\n",
      "100%|██████████| 2728/2728 [00:12<00:00, 221.35it/s]\n",
      "100%|██████████| 2727/2727 [00:12<00:00, 216.99it/s]\n"
     ]
    },
    {
     "name": "stdout",
     "output_type": "stream",
     "text": [
      "0.6129549286630164\n"
     ]
    },
    {
     "name": "stderr",
     "output_type": "stream",
     "text": [
      "100%|██████████| 6660/6660 [00:29<00:00, 222.16it/s]\n",
      "100%|██████████| 3168/3168 [00:14<00:00, 221.00it/s]\n",
      "100%|██████████| 3810/3810 [00:17<00:00, 217.97it/s]\n"
     ]
    },
    {
     "name": "stdout",
     "output_type": "stream",
     "text": [
      "0.5409009650545685\n"
     ]
    },
    {
     "name": "stderr",
     "output_type": "stream",
     "text": [
      "100%|██████████| 7406/7406 [00:34<00:00, 214.64it/s]\n",
      "100%|██████████| 3064/3064 [00:14<00:00, 218.59it/s]\n",
      "100%|██████████| 3168/3168 [00:14<00:00, 218.57it/s]\n"
     ]
    },
    {
     "name": "stdout",
     "output_type": "stream",
     "text": [
      "0.5554541751817287\n"
     ]
    },
    {
     "name": "stderr",
     "output_type": "stream",
     "text": [
      "100%|██████████| 7406/7406 [00:33<00:00, 220.61it/s]\n",
      "100%|██████████| 3168/3168 [00:14<00:00, 218.17it/s]\n",
      "100%|██████████| 3064/3064 [00:14<00:00, 217.38it/s]\n"
     ]
    },
    {
     "name": "stdout",
     "output_type": "stream",
     "text": [
      "0.5451976871926637\n"
     ]
    },
    {
     "name": "stderr",
     "output_type": "stream",
     "text": [
      "100%|██████████| 6232/6232 [00:28<00:00, 220.97it/s]\n",
      "100%|██████████| 3810/3810 [00:17<00:00, 218.99it/s]\n",
      "100%|██████████| 3596/3596 [00:16<00:00, 221.42it/s]\n"
     ]
    },
    {
     "name": "stdout",
     "output_type": "stream",
     "text": [
      "0.5026197552688234\n"
     ]
    },
    {
     "name": "stderr",
     "output_type": "stream",
     "text": [
      "100%|██████████| 6660/6660 [00:30<00:00, 221.47it/s]\n",
      "100%|██████████| 3168/3168 [00:14<00:00, 220.61it/s]\n",
      "100%|██████████| 3810/3810 [00:17<00:00, 218.61it/s]\n"
     ]
    },
    {
     "name": "stdout",
     "output_type": "stream",
     "text": [
      "0.6589774747165185\n"
     ]
    },
    {
     "name": "stderr",
     "output_type": "stream",
     "text": [
      "100%|██████████| 7406/7406 [00:33<00:00, 221.31it/s]\n",
      "100%|██████████| 3064/3064 [00:13<00:00, 219.72it/s]\n",
      "100%|██████████| 3168/3168 [00:14<00:00, 219.64it/s]\n"
     ]
    },
    {
     "name": "stdout",
     "output_type": "stream",
     "text": [
      "0.6537716858490711\n"
     ]
    },
    {
     "name": "stderr",
     "output_type": "stream",
     "text": [
      "100%|██████████| 7406/7406 [00:33<00:00, 221.12it/s]\n",
      "100%|██████████| 3168/3168 [00:14<00:00, 218.80it/s]\n",
      "100%|██████████| 3064/3064 [00:14<00:00, 216.24it/s]\n"
     ]
    },
    {
     "name": "stdout",
     "output_type": "stream",
     "text": [
      "0.6479776247644781\n"
     ]
    },
    {
     "name": "stderr",
     "output_type": "stream",
     "text": [
      "100%|██████████| 6232/6232 [00:28<00:00, 220.40it/s]\n",
      "100%|██████████| 3810/3810 [00:17<00:00, 219.26it/s]\n",
      "100%|██████████| 3596/3596 [00:16<00:00, 219.23it/s]\n"
     ]
    },
    {
     "name": "stdout",
     "output_type": "stream",
     "text": [
      "0.6439055034136508\n"
     ]
    },
    {
     "name": "stderr",
     "output_type": "stream",
     "text": [
      "100%|██████████| 6660/6660 [00:30<00:00, 221.67it/s]\n",
      "100%|██████████| 3168/3168 [00:14<00:00, 222.99it/s]\n",
      "100%|██████████| 3810/3810 [00:17<00:00, 216.41it/s]\n"
     ]
    },
    {
     "name": "stdout",
     "output_type": "stream",
     "text": [
      "0.5069536101434537\n"
     ]
    },
    {
     "name": "stderr",
     "output_type": "stream",
     "text": [
      "100%|██████████| 7406/7406 [00:33<00:00, 220.68it/s]\n",
      "100%|██████████| 3064/3064 [00:13<00:00, 219.89it/s]\n",
      "100%|██████████| 3168/3168 [00:14<00:00, 219.19it/s]\n"
     ]
    },
    {
     "name": "stdout",
     "output_type": "stream",
     "text": [
      "0.5197001848580146\n"
     ]
    },
    {
     "name": "stderr",
     "output_type": "stream",
     "text": [
      "100%|██████████| 7406/7406 [00:33<00:00, 220.95it/s]\n",
      "100%|██████████| 3168/3168 [00:14<00:00, 222.23it/s]\n",
      "100%|██████████| 3064/3064 [00:14<00:00, 216.53it/s]\n"
     ]
    },
    {
     "name": "stdout",
     "output_type": "stream",
     "text": [
      "0.5068631696054665\n"
     ]
    },
    {
     "name": "stderr",
     "output_type": "stream",
     "text": [
      "100%|██████████| 6232/6232 [00:28<00:00, 219.76it/s]\n",
      "100%|██████████| 3810/3810 [00:17<00:00, 218.04it/s]\n",
      "100%|██████████| 3596/3596 [00:16<00:00, 221.84it/s]\n"
     ]
    },
    {
     "name": "stdout",
     "output_type": "stream",
     "text": [
      "0.5159532052228983\n"
     ]
    },
    {
     "name": "stderr",
     "output_type": "stream",
     "text": [
      "100%|██████████| 6660/6660 [00:30<00:00, 221.51it/s]\n",
      "100%|██████████| 3168/3168 [00:14<00:00, 221.37it/s]\n",
      "100%|██████████| 3810/3810 [00:17<00:00, 217.53it/s]\n"
     ]
    },
    {
     "name": "stdout",
     "output_type": "stream",
     "text": [
      "0.6159299822894293\n"
     ]
    },
    {
     "name": "stderr",
     "output_type": "stream",
     "text": [
      "100%|██████████| 7406/7406 [00:33<00:00, 221.04it/s]\n",
      "100%|██████████| 3064/3064 [00:14<00:00, 217.27it/s]\n",
      "100%|██████████| 3168/3168 [00:14<00:00, 219.69it/s]\n"
     ]
    },
    {
     "name": "stdout",
     "output_type": "stream",
     "text": [
      "0.6097032923888048\n"
     ]
    },
    {
     "name": "stderr",
     "output_type": "stream",
     "text": [
      "100%|██████████| 7406/7406 [00:33<00:00, 220.87it/s]\n",
      "100%|██████████| 3168/3168 [00:14<00:00, 219.62it/s]\n",
      "100%|██████████| 3064/3064 [00:14<00:00, 217.44it/s]\n"
     ]
    },
    {
     "name": "stdout",
     "output_type": "stream",
     "text": [
      "0.6070441985967068\n"
     ]
    },
    {
     "name": "stderr",
     "output_type": "stream",
     "text": [
      "100%|██████████| 6232/6232 [00:28<00:00, 220.14it/s]\n",
      "100%|██████████| 3810/3810 [00:17<00:00, 217.39it/s]\n",
      "100%|██████████| 3596/3596 [00:16<00:00, 221.34it/s]\n"
     ]
    },
    {
     "name": "stdout",
     "output_type": "stream",
     "text": [
      "0.5996594420762471\n"
     ]
    }
   ],
   "source": [
    "spit_criterions = ['subj','book-page','book']\n",
    "labels = ['acc_level','native','difficulty','subj_acc_level']\n",
    "\n",
    "model_name = 'rf_flatten'\n",
    "model_name = 'rf_mean'\n",
    "model_name = 'rf_features'\n",
    "axis = 1\n",
    "n_estimators = 100\n",
    "if model_name == 'rf_flatten':      \n",
    "    feature_names = []\n",
    "    for word_id in range(num_words):\n",
    "        for i in range(len(feature_names_per_word)):\n",
    "            feature_names.append('word ' + str(word_id+1) + ' '+ feature_names_per_word[i])\n",
    "elif model_name == 'rf_mean':\n",
    "    if axis == 2:\n",
    "        feature_names = ['word ' + str(i+1) for i in range(num_words)]\n",
    "    elif axis == 1:\n",
    "        feature_names = feature_names_per_word\n",
    "\n",
    "feature_names_per_word = [      'ff',\n",
    "                                'tf',\n",
    "                                'wfc_ff_nomarlized',\n",
    "                                'wfc_tf_normalized',\n",
    "                                'sc_ff_normalized',\n",
    "                                'sc_tf_normalized',\n",
    "                                'ic_ff_normalized',\n",
    "                                'ic_tf_normalized',\n",
    "                                'regression',\n",
    "                                'num_regressions',\n",
    "                                'num_progressions',\n",
    "                                'surprisal',\n",
    "                                'word_len',\n",
    "                                'dependencies_right',\n",
    "                                'dependencies_left',\n",
    "                                'dependency_distance']\n",
    "\n",
    "\n",
    "for entity in rf_feature_extraction.entity_list:\n",
    "    feature_names_per_word.append('is_entity_' + entity)\n",
    "\n",
    "for pos in rf_feature_extraction.pos_list:\n",
    "    feature_names_per_word.append('is_pos_' + pos)\n",
    "\n",
    "\n",
    "unique_content_word_list = list(np.unique(list(rf_feature_extraction.content_word_dict.values())))\n",
    "for content_word in unique_content_word_list:\n",
    "    feature_names_per_word.append('is_content_word_' + content_word)\n",
    "\n",
    "\n",
    "unique_reduced_pos_list = list(np.unique(list(rf_feature_extraction.reduced_pos_dict.values())))\n",
    "for r_pos in unique_reduced_pos_list:\n",
    "    feature_names_per_word.append('is_reduced_pos_' + r_pos)\n",
    "\n",
    "feature_names_per_word += ['x_mean','y_mean']\n",
    "\n",
    "feature_string = '_text_sequence_'\n",
    "feature_string = '_text_sequence_with_paul_david_cluster_'\n",
    "feature_string = '_text_sequence_with_paul_david_cluster_41_feature_'\n",
    "feature_string = '_text_sequence_with_paul_david_cluster_41_feature_'\n",
    "feature_string = '_full_feature_set_'\n",
    "\n",
    "\n",
    "\n",
    "for split_criterion in spit_criterions:\n",
    "    for label in labels:\n",
    "        save_path=f'{save_dir}{model_name}_{split_criterion}_text_sequence_{label}_{input_window}.csv'\n",
    "\n",
    "        SB_SAT_PATH = f'/raid/projects/reich3/reading-comprehension/paper_splits/{input_window}/{split_criterion}/'\n",
    "        split_criterion_dict = {\n",
    "            'subj': 0,\n",
    "            'book': 1,\n",
    "        }\n",
    "        with open('/raid/projects/reich3/reading-comprehension/npy_files/labels_dict.json') as fp:\n",
    "            label_dict = json.load(fp)\n",
    "\n",
    "        if split_criterion == 'book':\n",
    "            num_folds = 4\n",
    "        else:\n",
    "            num_folds = 5\n",
    "        pd_init = pd.DataFrame(\n",
    "            columns=[\n",
    "                'ahn_baseline',\n",
    "                'fold0_auc', 'fold1_auc', 'fold2_auc', 'fold3_auc', 'fold4_auc',\n",
    "                'fold0_tpr', 'fold1_tpr', 'fold2_tpr', 'fold3_tpr', 'fold4_tpr',\n",
    "                'fold0_fpr', 'fold1_fpr', 'fold2_fpr', 'fold3_fpr', 'fold4_fpr',\n",
    "                'fold0_y_pred', 'fold1_y_pred', 'fold2_y_pred', 'fold3_y_pred', 'fold4_y_pred',\n",
    "                'fold0_y_test', 'fold1_y_test', 'fold2_y_test', 'fold3_y_test', 'fold4_y_test',\n",
    "            'avg_auc', 'std_auc']\n",
    "        )\n",
    "        pd_init['ahn_baseline'] = [model_name]\n",
    "\n",
    "        if input_window == 'window':\n",
    "            input_shape = (21, )\n",
    "        elif input_window == 'page':\n",
    "            input_shape = (150, 11)\n",
    "\n",
    "\n",
    "\n",
    "\n",
    "        feature_importances = []\n",
    "        for fold in range(num_folds):\n",
    "            np.random.seed(fold)\n",
    "            random.seed(fold)\n",
    "            X_train_path = os.path.join(SB_SAT_PATH, f'X_train_{split_criterion}{feature_string}{fold}{suffix}.npy')\n",
    "            y_train_path = os.path.join(SB_SAT_PATH, f'y_train_{split_criterion}{feature_string}{fold}{suffix}.npy')\n",
    "            x_train_all, y_train_all = np.load(X_train_path), np.load(y_train_path, allow_pickle=True)\n",
    "            if normalize_flag:\n",
    "                scaler = MinMaxScaler()\n",
    "                x_train_all = scaler.fit_transform(x_train_all.reshape(-1, x_train_all.shape[-1])).reshape(x_train_all.shape)\n",
    "            \n",
    "            \n",
    "            if grid_search:\n",
    "                #splitkeys = np.array(sorted(list(set(y_train_all[:, split_criterion_dict[split_criterion]]))))\n",
    "                outer_cv = KFold(n_splits=3, shuffle=True, random_state=fold)\n",
    "                y_train_label = np.array(y_train_all[:, label_dict[label]], dtype=int)    \n",
    "                cv_splits = outer_cv.split(x_train_all,y_train_label)#splitkeys)\n",
    "                \n",
    "                if model_name == 'rf_flatten':\n",
    "                    x_train = np.reshape(x_train_all,[x_train_all.shape[0],x_train_all.shape[1] * x_train_all.shape[2]])\n",
    "                elif model_name == 'rf_mean':\n",
    "                    x_train = np.mean(x_train_all,axis=axis)\n",
    "                elif model_name == 'rf_features':\n",
    "                    x_train, feature_names = rf_feature_extraction.get_rf_features_for_word_features(\n",
    "                        x_train_all,feature_names_per_word,disable = False,\n",
    "                        use_gaze_entropy_features = use_gaze_entropy_features)\n",
    "            else:                \n",
    "                if split_criterion != 'book':\n",
    "                    outer_cv = KFold(n_splits=4, shuffle=True, random_state=fold)\n",
    "                else:\n",
    "                    outer_cv = KFold(n_splits=3, shuffle=True, random_state=fold)\n",
    "                \n",
    "                if split_criterion != 'book-page':\n",
    "                    splitkeys = np.array(sorted(list(set(y_train_all[:, split_criterion_dict[split_criterion]]))))\n",
    "                else:\n",
    "                    splitkeys = y_train_all[:, label_dict[label]]\n",
    "\n",
    "                for train_idx, val_idx in outer_cv.split(splitkeys):\n",
    "                    break\n",
    "\n",
    "                if split_criterion != 'book-page':\n",
    "                    N_train_sub = splitkeys[train_idx]\n",
    "                    N_test_sub = splitkeys[val_idx]\n",
    "\n",
    "                    x_train = x_train_all[np.isin(y_train_all[:, split_criterion_dict[split_criterion]], N_train_sub)]\n",
    "                    x_val = x_train_all[np.isin(y_train_all[:, split_criterion_dict[split_criterion]], N_test_sub)]\n",
    "                    y_train = y_train_all[np.isin(y_train_all[:, split_criterion_dict[split_criterion]], N_train_sub)]\n",
    "                    y_val = y_train_all[np.isin(y_train_all[:, split_criterion_dict[split_criterion]], N_test_sub)]\n",
    "                else:\n",
    "                    x_train = x_train_all[train_idx]\n",
    "                    y_train = y_train_all[train_idx]\n",
    "                    x_val = x_train_all[val_idx]\n",
    "                    y_val = y_train_all[val_idx]\n",
    "                    y_train_all[val_idx]\n",
    "                y_train = np.array(y_train[:, label_dict[label]], dtype=int)\n",
    "                y_val = np.array(y_val[:, label_dict[label]], dtype=int)\n",
    "\n",
    "\n",
    "\n",
    "                if model_name == 'rf_flatten':\n",
    "                    x_train = np.reshape(x_train,[x_train.shape[0],x_train.shape[1] * x_train.shape[2]])\n",
    "                    x_val   = np.reshape(x_val,[x_val.shape[0],x_val.shape[1] * x_val.shape[2]])\n",
    "                elif model_name == 'rf_mean':\n",
    "                    x_train = np.mean(x_train,axis=axis)\n",
    "                    x_val =   np.mean(x_val,axis=axis)\n",
    "                elif model_name == 'rf_features':\n",
    "                    x_train, feature_names = rf_feature_extraction.get_rf_features_for_word_features(\n",
    "                                x_train,feature_names_per_word,disable = False,\n",
    "                                use_gaze_entropy_features = use_gaze_entropy_features)\n",
    "                    x_val, _ = rf_feature_extraction.get_rf_features_for_word_features(\n",
    "                                x_val,feature_names_per_word,disable = False,\n",
    "                                use_gaze_entropy_features = use_gaze_entropy_features)\n",
    "            \n",
    "            # fit RF\n",
    "            if grid_search:\n",
    "                model = GridSearchCV(estimator=RandomForestClassifier(), param_grid=param_grid, cv=outer_cv,\n",
    "                                    verbose = 1)\n",
    "                model.fit(x_train,y_train_label)\n",
    "                model = model.best_estimator_\n",
    "            else:\n",
    "                model = RandomForestClassifier(n_jobs = -1,n_estimators=n_estimators)\n",
    "                x_train = np.vstack([x_train,x_val])\n",
    "                y_train = np.concatenate([y_train,y_val])\n",
    "                model.fit(\n",
    "                    x_train,\n",
    "                    y_train)\n",
    "            feature_importances.append(model.feature_importances_)\n",
    "\n",
    "            X_test_path = os.path.join(SB_SAT_PATH, f'X_test_{split_criterion}{feature_string}{fold}{suffix}.npy')\n",
    "            y_test_path = os.path.join(SB_SAT_PATH, f'y_test_{split_criterion}{feature_string}{fold}{suffix}.npy')\n",
    "            x_test, y_test = np.load(X_test_path), np.load(y_test_path, allow_pickle=True)\n",
    "            if normalize_flag:\n",
    "                x_test = scaler.transform(x_test.reshape(-1, x_test.shape[-1])).reshape(x_test.shape)\n",
    "            y_test = np.array(y_test[:, label_dict[label]], dtype=int)\n",
    "\n",
    "\n",
    "            if model_name == 'rf_flatten':\n",
    "                x_test = np.reshape(x_test,[x_test.shape[0],x_test.shape[1] * x_test.shape[2]])\n",
    "            elif model_name == 'rf_mean':\n",
    "                x_test = np.mean(x_test,axis=axis)\n",
    "            elif model_name == 'rf_features':\n",
    "                x_test, _ = rf_feature_extraction.get_rf_features_for_word_features(\n",
    "                            x_test,feature_names_per_word,disable = False,\n",
    "                            use_gaze_entropy_features = use_gaze_entropy_features)\n",
    "\n",
    "\n",
    "            y_pred = model.predict_proba(x_test)[:,1]\n",
    "            try:\n",
    "                fpr, tpr, _ = metrics.roc_curve(\n",
    "                    y_test,\n",
    "                    y_pred,\n",
    "                    pos_label=1,\n",
    "                )\n",
    "                auc = metrics.auc(fpr, tpr)\n",
    "                print(auc)\n",
    "                pd_init[f'fold{fold}_auc'] = auc\n",
    "                pd_init[f'fold{fold}_tpr'] = [tpr]\n",
    "                pd_init[f'fold{fold}_fpr'] = [fpr]\n",
    "                pd_init[f'fold{fold}_y_test'] = [y_test]\n",
    "                pd_init[f'fold{fold}_y_pred'] = [y_pred]\n",
    "            except:\n",
    "                try:\n",
    "                    fpr, tpr, _ = metrics.roc_curve(\n",
    "                        y_test,\n",
    "                        y_pred,\n",
    "                        pos_label=1,\n",
    "                    )\n",
    "                    auc = metrics.auc(fpr, tpr)\n",
    "                    print(auc)\n",
    "                    pd_init[f'fold{fold}_auc'] = auc\n",
    "                    pd_init[f'fold{fold}_tpr'] = [tpr]\n",
    "                    pd_init[f'fold{fold}_fpr'] = [fpr]\n",
    "                    pd_init[f'fold{fold}_y_test'] = y_test\n",
    "                    pd_init[f'fold{fold}_y_pred'] = y_pred\n",
    "                except:\n",
    "                    print(allo)\n",
    "\n",
    "        pd_init['avg_auc'] = 0\n",
    "        for i in range(num_folds):\n",
    "            pd_init['avg_auc'] += pd_init[f'fold{i}_auc']\n",
    "        pd_init['avg_auc']  /= num_folds\n",
    "\n",
    "        pd_init['std_auc'] = 0\n",
    "        for i in range(0, num_folds):\n",
    "            pd_init['std_auc'] +=  (pd_init[f'fold{i}_auc'] - pd_init['avg_auc'])**2\n",
    "        pd_init['std_auc'] = (pd_init['std_auc']/num_folds)**(1/2)\n",
    "        pd_init.to_csv(save_path, index=None)"
   ]
  },
  {
   "cell_type": "code",
   "execution_count": null,
   "metadata": {},
   "outputs": [],
   "source": []
  }
 ],
 "metadata": {
  "kernelspec": {
   "display_name": "Python 3",
   "language": "python",
   "name": "python3"
  },
  "language_info": {
   "codemirror_mode": {
    "name": "ipython",
    "version": 3
   },
   "file_extension": ".py",
   "mimetype": "text/x-python",
   "name": "python",
   "nbconvert_exporter": "python",
   "pygments_lexer": "ipython3",
   "version": "3.8.5"
  }
 },
 "nbformat": 4,
 "nbformat_minor": 4
}
